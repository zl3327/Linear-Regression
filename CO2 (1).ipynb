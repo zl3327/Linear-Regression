{
 "cells": [
  {
   "cell_type": "code",
   "execution_count": 566,
   "metadata": {},
   "outputs": [
    {
     "data": {
      "text/html": [
       "<div>\n",
       "<style scoped>\n",
       "    .dataframe tbody tr th:only-of-type {\n",
       "        vertical-align: middle;\n",
       "    }\n",
       "\n",
       "    .dataframe tbody tr th {\n",
       "        vertical-align: top;\n",
       "    }\n",
       "\n",
       "    .dataframe thead th {\n",
       "        text-align: right;\n",
       "    }\n",
       "</style>\n",
       "<table border=\"1\" class=\"dataframe\">\n",
       "  <thead>\n",
       "    <tr style=\"text-align: right;\">\n",
       "      <th></th>\n",
       "      <th>Country</th>\n",
       "      <th>Year</th>\n",
       "      <th>CO2_emission</th>\n",
       "      <th>CO2_emission_pre</th>\n",
       "      <th>Population</th>\n",
       "      <th>Density</th>\n",
       "      <th>Area</th>\n",
       "      <th>GDP</th>\n",
       "      <th>real_GDP</th>\n",
       "      <th>Temperature</th>\n",
       "    </tr>\n",
       "  </thead>\n",
       "  <tbody>\n",
       "    <tr>\n",
       "      <th>0</th>\n",
       "      <td>United States</td>\n",
       "      <td>1961</td>\n",
       "      <td>1.220000e+11</td>\n",
       "      <td>119000000000</td>\n",
       "      <td>183691000</td>\n",
       "      <td>19.598703</td>\n",
       "      <td>9372610.0</td>\n",
       "      <td>562.2</td>\n",
       "      <td>3345.7</td>\n",
       "      <td>51.87</td>\n",
       "    </tr>\n",
       "    <tr>\n",
       "      <th>1</th>\n",
       "      <td>United States</td>\n",
       "      <td>1962</td>\n",
       "      <td>1.250000e+11</td>\n",
       "      <td>122000000000</td>\n",
       "      <td>186538000</td>\n",
       "      <td>19.902460</td>\n",
       "      <td>9372610.0</td>\n",
       "      <td>603.9</td>\n",
       "      <td>3550.7</td>\n",
       "      <td>51.90</td>\n",
       "    </tr>\n",
       "    <tr>\n",
       "      <th>2</th>\n",
       "      <td>United States</td>\n",
       "      <td>1963</td>\n",
       "      <td>1.280000e+11</td>\n",
       "      <td>125000000000</td>\n",
       "      <td>189242000</td>\n",
       "      <td>20.190961</td>\n",
       "      <td>9372610.0</td>\n",
       "      <td>637.5</td>\n",
       "      <td>3705.3</td>\n",
       "      <td>52.26</td>\n",
       "    </tr>\n",
       "    <tr>\n",
       "      <th>3</th>\n",
       "      <td>United States</td>\n",
       "      <td>1964</td>\n",
       "      <td>1.310000e+11</td>\n",
       "      <td>128000000000</td>\n",
       "      <td>191889000</td>\n",
       "      <td>20.473379</td>\n",
       "      <td>9372610.0</td>\n",
       "      <td>684.5</td>\n",
       "      <td>3918.8</td>\n",
       "      <td>51.67</td>\n",
       "    </tr>\n",
       "    <tr>\n",
       "      <th>4</th>\n",
       "      <td>United States</td>\n",
       "      <td>1965</td>\n",
       "      <td>1.350000e+11</td>\n",
       "      <td>131000000000</td>\n",
       "      <td>194303000</td>\n",
       "      <td>20.730938</td>\n",
       "      <td>9372610.0</td>\n",
       "      <td>742.3</td>\n",
       "      <td>4173.4</td>\n",
       "      <td>51.69</td>\n",
       "    </tr>\n",
       "  </tbody>\n",
       "</table>\n",
       "</div>"
      ],
      "text/plain": [
       "         Country  Year  CO2_emission  CO2_emission_pre  Population    Density  \\\n",
       "0  United States  1961  1.220000e+11      119000000000   183691000  19.598703   \n",
       "1  United States  1962  1.250000e+11      122000000000   186538000  19.902460   \n",
       "2  United States  1963  1.280000e+11      125000000000   189242000  20.190961   \n",
       "3  United States  1964  1.310000e+11      128000000000   191889000  20.473379   \n",
       "4  United States  1965  1.350000e+11      131000000000   194303000  20.730938   \n",
       "\n",
       "        Area    GDP  real_GDP  Temperature  \n",
       "0  9372610.0  562.2    3345.7        51.87  \n",
       "1  9372610.0  603.9    3550.7        51.90  \n",
       "2  9372610.0  637.5    3705.3        52.26  \n",
       "3  9372610.0  684.5    3918.8        51.67  \n",
       "4  9372610.0  742.3    4173.4        51.69  "
      ]
     },
     "execution_count": 566,
     "metadata": {},
     "output_type": "execute_result"
    }
   ],
   "source": [
    "import pandas as pd\n",
    "import statsmodels.api as sm\n",
    "from scipy import stats\n",
    "import numpy as np\n",
    "import matplotlib.pyplot as plt\n",
    "import warnings\n",
    "warnings.filterwarnings('ignore')\n",
    "\n",
    "df = pd.read_csv('CO2_USA.csv')\n",
    "df.head(5)"
   ]
  },
  {
   "cell_type": "code",
   "execution_count": 567,
   "metadata": {},
   "outputs": [
    {
     "data": {
      "text/html": [
       "<table class=\"simpletable\">\n",
       "<caption>OLS Regression Results</caption>\n",
       "<tr>\n",
       "  <th>Dep. Variable:</th>      <td>CO2_emission</td>   <th>  R-squared:         </th> <td>   1.000</td> \n",
       "</tr>\n",
       "<tr>\n",
       "  <th>Model:</th>                   <td>OLS</td>       <th>  Adj. R-squared:    </th> <td>   1.000</td> \n",
       "</tr>\n",
       "<tr>\n",
       "  <th>Method:</th>             <td>Least Squares</td>  <th>  F-statistic:       </th> <td>5.455e+05</td>\n",
       "</tr>\n",
       "<tr>\n",
       "  <th>Date:</th>             <td>Mon, 11 Dec 2023</td> <th>  Prob (F-statistic):</th> <td>9.92e-126</td>\n",
       "</tr>\n",
       "<tr>\n",
       "  <th>Time:</th>                 <td>21:04:33</td>     <th>  Log-Likelihood:    </th> <td> -1280.5</td> \n",
       "</tr>\n",
       "<tr>\n",
       "  <th>No. Observations:</th>      <td>    60</td>      <th>  AIC:               </th> <td>   2571.</td> \n",
       "</tr>\n",
       "<tr>\n",
       "  <th>Df Residuals:</th>          <td>    55</td>      <th>  BIC:               </th> <td>   2581.</td> \n",
       "</tr>\n",
       "<tr>\n",
       "  <th>Df Model:</th>              <td>     4</td>      <th>                     </th>     <td> </td>    \n",
       "</tr>\n",
       "<tr>\n",
       "  <th>Covariance Type:</th>      <td>nonrobust</td>    <th>                     </th>     <td> </td>    \n",
       "</tr>\n",
       "</table>\n",
       "<table class=\"simpletable\">\n",
       "<tr>\n",
       "          <td></td>            <th>coef</th>     <th>std err</th>      <th>t</th>      <th>P>|t|</th>  <th>[0.025</th>    <th>0.975]</th>  \n",
       "</tr>\n",
       "<tr>\n",
       "  <th>const</th>            <td>-1.765e+10</td> <td> 5.89e+09</td> <td>   -2.994</td> <td> 0.004</td> <td>-2.95e+10</td> <td>-5.84e+09</td>\n",
       "</tr>\n",
       "<tr>\n",
       "  <th>Density</th>          <td> 1.536e+09</td> <td> 3.34e+08</td> <td>    4.599</td> <td> 0.000</td> <td> 8.67e+08</td> <td> 2.21e+09</td>\n",
       "</tr>\n",
       "<tr>\n",
       "  <th>GDP</th>              <td>-1.681e+05</td> <td> 6.21e+04</td> <td>   -2.707</td> <td> 0.009</td> <td>-2.92e+05</td> <td>-4.36e+04</td>\n",
       "</tr>\n",
       "<tr>\n",
       "  <th>Temperature</th>      <td>-4.088e+07</td> <td> 8.37e+07</td> <td>   -0.488</td> <td> 0.627</td> <td>-2.09e+08</td> <td> 1.27e+08</td>\n",
       "</tr>\n",
       "<tr>\n",
       "  <th>CO2_emission_pre</th> <td>    0.9372</td> <td>    0.021</td> <td>   45.517</td> <td> 0.000</td> <td>    0.896</td> <td>    0.979</td>\n",
       "</tr>\n",
       "</table>\n",
       "<table class=\"simpletable\">\n",
       "<tr>\n",
       "  <th>Omnibus:</th>       <td> 0.182</td> <th>  Durbin-Watson:     </th> <td>   2.362</td>\n",
       "</tr>\n",
       "<tr>\n",
       "  <th>Prob(Omnibus):</th> <td> 0.913</td> <th>  Jarque-Bera (JB):  </th> <td>   0.247</td>\n",
       "</tr>\n",
       "<tr>\n",
       "  <th>Skew:</th>          <td>-0.123</td> <th>  Prob(JB):          </th> <td>   0.884</td>\n",
       "</tr>\n",
       "<tr>\n",
       "  <th>Kurtosis:</th>      <td> 2.804</td> <th>  Cond. No.          </th> <td>2.62e+13</td>\n",
       "</tr>\n",
       "</table><br/><br/>Notes:<br/>[1] Standard Errors assume that the covariance matrix of the errors is correctly specified.<br/>[2] The condition number is large, 2.62e+13. This might indicate that there are<br/>strong multicollinearity or other numerical problems."
      ],
      "text/plain": [
       "<class 'statsmodels.iolib.summary.Summary'>\n",
       "\"\"\"\n",
       "                            OLS Regression Results                            \n",
       "==============================================================================\n",
       "Dep. Variable:           CO2_emission   R-squared:                       1.000\n",
       "Model:                            OLS   Adj. R-squared:                  1.000\n",
       "Method:                 Least Squares   F-statistic:                 5.455e+05\n",
       "Date:                Mon, 11 Dec 2023   Prob (F-statistic):          9.92e-126\n",
       "Time:                        21:04:33   Log-Likelihood:                -1280.5\n",
       "No. Observations:                  60   AIC:                             2571.\n",
       "Df Residuals:                      55   BIC:                             2581.\n",
       "Df Model:                           4                                         \n",
       "Covariance Type:            nonrobust                                         \n",
       "====================================================================================\n",
       "                       coef    std err          t      P>|t|      [0.025      0.975]\n",
       "------------------------------------------------------------------------------------\n",
       "const            -1.765e+10   5.89e+09     -2.994      0.004   -2.95e+10   -5.84e+09\n",
       "Density           1.536e+09   3.34e+08      4.599      0.000    8.67e+08    2.21e+09\n",
       "GDP              -1.681e+05   6.21e+04     -2.707      0.009   -2.92e+05   -4.36e+04\n",
       "Temperature      -4.088e+07   8.37e+07     -0.488      0.627   -2.09e+08    1.27e+08\n",
       "CO2_emission_pre     0.9372      0.021     45.517      0.000       0.896       0.979\n",
       "==============================================================================\n",
       "Omnibus:                        0.182   Durbin-Watson:                   2.362\n",
       "Prob(Omnibus):                  0.913   Jarque-Bera (JB):                0.247\n",
       "Skew:                          -0.123   Prob(JB):                        0.884\n",
       "Kurtosis:                       2.804   Cond. No.                     2.62e+13\n",
       "==============================================================================\n",
       "\n",
       "Notes:\n",
       "[1] Standard Errors assume that the covariance matrix of the errors is correctly specified.\n",
       "[2] The condition number is large, 2.62e+13. This might indicate that there are\n",
       "strong multicollinearity or other numerical problems.\n",
       "\"\"\""
      ]
     },
     "execution_count": 567,
     "metadata": {},
     "output_type": "execute_result"
    }
   ],
   "source": [
    "from sklearn.preprocessing import StandardScaler\n",
    "X0 = df[['Density', 'GDP', 'Temperature', 'CO2_emission_pre']]\n",
    "y = df['CO2_emission']\n",
    "X = sm.add_constant(X0)\n",
    "\n",
    "#OLS Regression\n",
    "ols_model = sm.OLS(y, X).fit()\n",
    "ols_model.summary()"
   ]
  },
  {
   "cell_type": "code",
   "execution_count": 568,
   "metadata": {},
   "outputs": [
    {
     "data": {
      "text/html": [
       "<table class=\"simpletable\">\n",
       "<caption>WLS Regression Results</caption>\n",
       "<tr>\n",
       "  <th>Dep. Variable:</th>      <td>CO2_emission</td>   <th>  R-squared:         </th> <td>   1.000</td> \n",
       "</tr>\n",
       "<tr>\n",
       "  <th>Model:</th>                   <td>WLS</td>       <th>  Adj. R-squared:    </th> <td>   1.000</td> \n",
       "</tr>\n",
       "<tr>\n",
       "  <th>Method:</th>             <td>Least Squares</td>  <th>  F-statistic:       </th> <td>5.026e+05</td>\n",
       "</tr>\n",
       "<tr>\n",
       "  <th>Date:</th>             <td>Mon, 11 Dec 2023</td> <th>  Prob (F-statistic):</th> <td>9.44e-125</td>\n",
       "</tr>\n",
       "<tr>\n",
       "  <th>Time:</th>                 <td>21:04:33</td>     <th>  Log-Likelihood:    </th> <td> -1281.6</td> \n",
       "</tr>\n",
       "<tr>\n",
       "  <th>No. Observations:</th>      <td>    60</td>      <th>  AIC:               </th> <td>   2573.</td> \n",
       "</tr>\n",
       "<tr>\n",
       "  <th>Df Residuals:</th>          <td>    55</td>      <th>  BIC:               </th> <td>   2584.</td> \n",
       "</tr>\n",
       "<tr>\n",
       "  <th>Df Model:</th>              <td>     4</td>      <th>                     </th>     <td> </td>    \n",
       "</tr>\n",
       "<tr>\n",
       "  <th>Covariance Type:</th>      <td>nonrobust</td>    <th>                     </th>     <td> </td>    \n",
       "</tr>\n",
       "</table>\n",
       "<table class=\"simpletable\">\n",
       "<tr>\n",
       "          <td></td>            <th>coef</th>     <th>std err</th>      <th>t</th>      <th>P>|t|</th>  <th>[0.025</th>    <th>0.975]</th>  \n",
       "</tr>\n",
       "<tr>\n",
       "  <th>const</th>            <td>-1.738e+10</td> <td> 6.52e+09</td> <td>   -2.667</td> <td> 0.010</td> <td>-3.04e+10</td> <td>-4.32e+09</td>\n",
       "</tr>\n",
       "<tr>\n",
       "  <th>Density</th>          <td> 1.423e+09</td> <td>  3.3e+08</td> <td>    4.311</td> <td> 0.000</td> <td> 7.61e+08</td> <td> 2.08e+09</td>\n",
       "</tr>\n",
       "<tr>\n",
       "  <th>GDP</th>              <td>-2.145e+05</td> <td> 5.83e+04</td> <td>   -3.680</td> <td> 0.001</td> <td>-3.31e+05</td> <td>-9.77e+04</td>\n",
       "</tr>\n",
       "<tr>\n",
       "  <th>Temperature</th>      <td>-2.495e+07</td> <td> 9.16e+07</td> <td>   -0.273</td> <td> 0.786</td> <td>-2.08e+08</td> <td> 1.59e+08</td>\n",
       "</tr>\n",
       "<tr>\n",
       "  <th>CO2_emission_pre</th> <td>    0.9465</td> <td>    0.020</td> <td>   47.365</td> <td> 0.000</td> <td>    0.906</td> <td>    0.987</td>\n",
       "</tr>\n",
       "</table>\n",
       "<table class=\"simpletable\">\n",
       "<tr>\n",
       "  <th>Omnibus:</th>       <td> 1.567</td> <th>  Durbin-Watson:     </th> <td>   2.464</td>\n",
       "</tr>\n",
       "<tr>\n",
       "  <th>Prob(Omnibus):</th> <td> 0.457</td> <th>  Jarque-Bera (JB):  </th> <td>   1.573</td>\n",
       "</tr>\n",
       "<tr>\n",
       "  <th>Skew:</th>          <td>-0.333</td> <th>  Prob(JB):          </th> <td>   0.455</td>\n",
       "</tr>\n",
       "<tr>\n",
       "  <th>Kurtosis:</th>      <td> 2.569</td> <th>  Cond. No.          </th> <td>2.55e+13</td>\n",
       "</tr>\n",
       "</table><br/><br/>Notes:<br/>[1] Standard Errors assume that the covariance matrix of the errors is correctly specified.<br/>[2] The condition number is large, 2.55e+13. This might indicate that there are<br/>strong multicollinearity or other numerical problems."
      ],
      "text/plain": [
       "<class 'statsmodels.iolib.summary.Summary'>\n",
       "\"\"\"\n",
       "                            WLS Regression Results                            \n",
       "==============================================================================\n",
       "Dep. Variable:           CO2_emission   R-squared:                       1.000\n",
       "Model:                            WLS   Adj. R-squared:                  1.000\n",
       "Method:                 Least Squares   F-statistic:                 5.026e+05\n",
       "Date:                Mon, 11 Dec 2023   Prob (F-statistic):          9.44e-125\n",
       "Time:                        21:04:33   Log-Likelihood:                -1281.6\n",
       "No. Observations:                  60   AIC:                             2573.\n",
       "Df Residuals:                      55   BIC:                             2584.\n",
       "Df Model:                           4                                         \n",
       "Covariance Type:            nonrobust                                         \n",
       "====================================================================================\n",
       "                       coef    std err          t      P>|t|      [0.025      0.975]\n",
       "------------------------------------------------------------------------------------\n",
       "const            -1.738e+10   6.52e+09     -2.667      0.010   -3.04e+10   -4.32e+09\n",
       "Density           1.423e+09    3.3e+08      4.311      0.000    7.61e+08    2.08e+09\n",
       "GDP              -2.145e+05   5.83e+04     -3.680      0.001   -3.31e+05   -9.77e+04\n",
       "Temperature      -2.495e+07   9.16e+07     -0.273      0.786   -2.08e+08    1.59e+08\n",
       "CO2_emission_pre     0.9465      0.020     47.365      0.000       0.906       0.987\n",
       "==============================================================================\n",
       "Omnibus:                        1.567   Durbin-Watson:                   2.464\n",
       "Prob(Omnibus):                  0.457   Jarque-Bera (JB):                1.573\n",
       "Skew:                          -0.333   Prob(JB):                        0.455\n",
       "Kurtosis:                       2.569   Cond. No.                     2.55e+13\n",
       "==============================================================================\n",
       "\n",
       "Notes:\n",
       "[1] Standard Errors assume that the covariance matrix of the errors is correctly specified.\n",
       "[2] The condition number is large, 2.55e+13. This might indicate that there are\n",
       "strong multicollinearity or other numerical problems.\n",
       "\"\"\""
      ]
     },
     "execution_count": 568,
     "metadata": {},
     "output_type": "execute_result"
    }
   ],
   "source": [
    "#WLS Regression\n",
    "weights = 1 / df['real_GDP']\n",
    "wls_model = sm.WLS(y, X, weights=weights).fit()\n",
    "wls_model.summary()"
   ]
  },
  {
   "cell_type": "code",
   "execution_count": 569,
   "metadata": {},
   "outputs": [
    {
     "data": {
      "text/html": [
       "<style>#sk-container-id-39 {color: black;background-color: white;}#sk-container-id-39 pre{padding: 0;}#sk-container-id-39 div.sk-toggleable {background-color: white;}#sk-container-id-39 label.sk-toggleable__label {cursor: pointer;display: block;width: 100%;margin-bottom: 0;padding: 0.3em;box-sizing: border-box;text-align: center;}#sk-container-id-39 label.sk-toggleable__label-arrow:before {content: \"▸\";float: left;margin-right: 0.25em;color: #696969;}#sk-container-id-39 label.sk-toggleable__label-arrow:hover:before {color: black;}#sk-container-id-39 div.sk-estimator:hover label.sk-toggleable__label-arrow:before {color: black;}#sk-container-id-39 div.sk-toggleable__content {max-height: 0;max-width: 0;overflow: hidden;text-align: left;background-color: #f0f8ff;}#sk-container-id-39 div.sk-toggleable__content pre {margin: 0.2em;color: black;border-radius: 0.25em;background-color: #f0f8ff;}#sk-container-id-39 input.sk-toggleable__control:checked~div.sk-toggleable__content {max-height: 200px;max-width: 100%;overflow: auto;}#sk-container-id-39 input.sk-toggleable__control:checked~label.sk-toggleable__label-arrow:before {content: \"▾\";}#sk-container-id-39 div.sk-estimator input.sk-toggleable__control:checked~label.sk-toggleable__label {background-color: #d4ebff;}#sk-container-id-39 div.sk-label input.sk-toggleable__control:checked~label.sk-toggleable__label {background-color: #d4ebff;}#sk-container-id-39 input.sk-hidden--visually {border: 0;clip: rect(1px 1px 1px 1px);clip: rect(1px, 1px, 1px, 1px);height: 1px;margin: -1px;overflow: hidden;padding: 0;position: absolute;width: 1px;}#sk-container-id-39 div.sk-estimator {font-family: monospace;background-color: #f0f8ff;border: 1px dotted black;border-radius: 0.25em;box-sizing: border-box;margin-bottom: 0.5em;}#sk-container-id-39 div.sk-estimator:hover {background-color: #d4ebff;}#sk-container-id-39 div.sk-parallel-item::after {content: \"\";width: 100%;border-bottom: 1px solid gray;flex-grow: 1;}#sk-container-id-39 div.sk-label:hover label.sk-toggleable__label {background-color: #d4ebff;}#sk-container-id-39 div.sk-serial::before {content: \"\";position: absolute;border-left: 1px solid gray;box-sizing: border-box;top: 0;bottom: 0;left: 50%;z-index: 0;}#sk-container-id-39 div.sk-serial {display: flex;flex-direction: column;align-items: center;background-color: white;padding-right: 0.2em;padding-left: 0.2em;position: relative;}#sk-container-id-39 div.sk-item {position: relative;z-index: 1;}#sk-container-id-39 div.sk-parallel {display: flex;align-items: stretch;justify-content: center;background-color: white;position: relative;}#sk-container-id-39 div.sk-item::before, #sk-container-id-39 div.sk-parallel-item::before {content: \"\";position: absolute;border-left: 1px solid gray;box-sizing: border-box;top: 0;bottom: 0;left: 50%;z-index: -1;}#sk-container-id-39 div.sk-parallel-item {display: flex;flex-direction: column;z-index: 1;position: relative;background-color: white;}#sk-container-id-39 div.sk-parallel-item:first-child::after {align-self: flex-end;width: 50%;}#sk-container-id-39 div.sk-parallel-item:last-child::after {align-self: flex-start;width: 50%;}#sk-container-id-39 div.sk-parallel-item:only-child::after {width: 0;}#sk-container-id-39 div.sk-dashed-wrapped {border: 1px dashed gray;margin: 0 0.4em 0.5em 0.4em;box-sizing: border-box;padding-bottom: 0.4em;background-color: white;}#sk-container-id-39 div.sk-label label {font-family: monospace;font-weight: bold;display: inline-block;line-height: 1.2em;}#sk-container-id-39 div.sk-label-container {text-align: center;}#sk-container-id-39 div.sk-container {/* jupyter's `normalize.less` sets `[hidden] { display: none; }` but bootstrap.min.css set `[hidden] { display: none !important; }` so we also need the `!important` here to be able to override the default hidden behavior on the sphinx rendered scikit-learn.org. See: https://github.com/scikit-learn/scikit-learn/issues/21755 */display: inline-block !important;position: relative;}#sk-container-id-39 div.sk-text-repr-fallback {display: none;}</style><div id=\"sk-container-id-39\" class=\"sk-top-container\"><div class=\"sk-text-repr-fallback\"><pre>ElasticNet(alpha=1, l1_ratio=0.8)</pre><b>In a Jupyter environment, please rerun this cell to show the HTML representation or trust the notebook. <br />On GitHub, the HTML representation is unable to render, please try loading this page with nbviewer.org.</b></div><div class=\"sk-container\" hidden><div class=\"sk-item\"><div class=\"sk-estimator sk-toggleable\"><input class=\"sk-toggleable__control sk-hidden--visually\" id=\"sk-estimator-id-39\" type=\"checkbox\" checked><label for=\"sk-estimator-id-39\" class=\"sk-toggleable__label sk-toggleable__label-arrow\">ElasticNet</label><div class=\"sk-toggleable__content\"><pre>ElasticNet(alpha=1, l1_ratio=0.8)</pre></div></div></div></div></div>"
      ],
      "text/plain": [
       "ElasticNet(alpha=1, l1_ratio=0.8)"
      ]
     },
     "execution_count": 569,
     "metadata": {},
     "output_type": "execute_result"
    }
   ],
   "source": [
    "from sklearn.linear_model import ElasticNet\n",
    "from sklearn.model_selection import GridSearchCV\n",
    "# Elastic Net Model\n",
    "elastic_net = ElasticNet()\n",
    "\n",
    "# Grid Search for parameters tuning\n",
    "param_grid = {\n",
    "    'alpha': [0.1, 1, 10, 100],\n",
    "    'l1_ratio': np.arange(0.0, 1.0, 0.1)\n",
    "}\n",
    "\n",
    "grid_search = GridSearchCV(estimator=elastic_net, param_grid=param_grid, cv=5)\n",
    "grid_search.fit(X0, y)\n",
    "\n",
    "# Best model\n",
    "best_model = grid_search.best_estimator_\n",
    "best_model"
   ]
  },
  {
   "cell_type": "code",
   "execution_count": 570,
   "metadata": {},
   "outputs": [],
   "source": [
    "elastic_net = ElasticNet(alpha=1, l1_ratio=0.8, random_state=0)\n",
    "elastic_net.fit(X0, y)\n",
    "y_pred = elastic_net.predict(X0)\n",
    "ela_residuals = y - y_pred"
   ]
  },
  {
   "cell_type": "code",
   "execution_count": 571,
   "metadata": {},
   "outputs": [
    {
     "data": {
      "image/png": "[encoded data removed]",
      "text/plain": [
       "<Figure size 640x480 with 1 Axes>"
      ]
     },
     "metadata": {},
     "output_type": "display_data"
    }
   ],
   "source": [
    "#OLS QQ plot\n",
    "ols_residuals = ols_model.resid\n",
    "fig = sm.qqplot(ols_residuals, line='s')\n",
    "plt.show()"
   ]
  },
  {
   "cell_type": "code",
   "execution_count": 572,
   "metadata": {},
   "outputs": [
    {
     "data": {
      "image/png": "[encoded data removed]",
      "text/plain": [
       "<Figure size 640x480 with 1 Axes>"
      ]
     },
     "metadata": {},
     "output_type": "display_data"
    }
   ],
   "source": [
    "#WLS QQ plot\n",
    "wls_residuals = wls_model.resid\n",
    "fig = sm.qqplot(wls_residuals, line='s')\n",
    "plt.show()"
   ]
  },
  {
   "cell_type": "code",
   "execution_count": 573,
   "metadata": {},
   "outputs": [
    {
     "data": {
      "image/png": "[encoded data removed]",
      "text/plain": [
       "<Figure size 640x480 with 1 Axes>"
      ]
     },
     "metadata": {},
     "output_type": "display_data"
    }
   ],
   "source": [
    "#Elastic QQ plot\n",
    "fig = sm.qqplot(ela_residuals, line='s')\n",
    "plt.show()"
   ]
  },
  {
   "cell_type": "code",
   "execution_count": 574,
   "metadata": {},
   "outputs": [
    {
     "name": "stdout",
     "output_type": "stream",
     "text": [
      "JB Statistic: 0.2466206988556114, P-value: 0.8839892744194194\n",
      "JB Statistic: 0.07211508203031514, P-value: 0.9645847886982902\n",
      "JB Statistic: 0.13337637178527237, P-value: 0.9354868538620151\n"
     ]
    }
   ],
   "source": [
    "#JB test\n",
    "from scipy.stats import jarque_bera\n",
    "ols_jb_statistic, ols_p_value = jarque_bera(ols_residuals)\n",
    "print(f\"JB Statistic: {ols_jb_statistic}, P-value: {ols_p_value}\")\n",
    "#The ols_residuals is normally distributed\n",
    "wls_jb_statistic, wls_p_value = jarque_bera(wls_residuals)\n",
    "print(f\"JB Statistic: {wls_jb_statistic}, P-value: {wls_p_value}\")\n",
    "#The wls_residuals is normally distributed\n",
    "ela_jb_statistic, ela_p_value = jarque_bera(ela_residuals)\n",
    "print(f\"JB Statistic: {ela_jb_statistic}, P-value: {ela_p_value}\")\n",
    "#The ela_residuals is normally distributed"
   ]
  },
  {
   "cell_type": "code",
   "execution_count": 575,
   "metadata": {},
   "outputs": [
    {
     "name": "stdout",
     "output_type": "stream",
     "text": [
      "BP Statistic: 1.9276571231962714, P-value: 0.7490626561412652\n",
      "BP Statistic: 2.3518145090237685, P-value: 0.6713520946350606\n",
      "BP Statistic: 2.7728148285724163, P-value: 0.596534409655421\n"
     ]
    }
   ],
   "source": [
    "#BP test\n",
    "from statsmodels.stats.diagnostic import het_breuschpagan\n",
    "ols_bp = het_breuschpagan(ols_residuals, ols_model.model.exog)\n",
    "print(f\"BP Statistic: {ols_bp[0]}, P-value: {ols_bp[1]}\")\n",
    "#OLS have no evidence of heteroscedasticity\n",
    "wls_bp = het_breuschpagan(wls_residuals, wls_model.model.exog)\n",
    "print(f\"BP Statistic: {wls_bp[0]}, P-value: {wls_bp[1]}\")\n",
    "#WLS have no evidence of heteroscedasticity\n",
    "ela_bp = het_breuschpagan(ela_residuals, X)\n",
    "print(f\"BP Statistic: {ela_bp[0]}, P-value: {ela_bp[1]}\")\n",
    "#Elastic have no evidence of heteroscedasticity"
   ]
  },
  {
   "cell_type": "code",
   "execution_count": 576,
   "metadata": {},
   "outputs": [
    {
     "name": "stdout",
     "output_type": "stream",
     "text": [
      "Durbin-Watson Statistic: 2.362036198320128\n",
      "Durbin-Watson Statistic: 2.368844028429315\n",
      "Durbin-Watson statistic: 2.017577340093516\n"
     ]
    }
   ],
   "source": [
    "# Calculating the Durbin-Watson statistic\n",
    "from statsmodels.stats.stattools import durbin_watson\n",
    "ols_dw_statistic = durbin_watson(ols_residuals)\n",
    "print(f\"Durbin-Watson Statistic: {ols_dw_statistic}\")\n",
    "#OLS have negative autocorrelation\n",
    "wls_dw_statistic = durbin_watson(wls_residuals)\n",
    "print(f\"Durbin-Watson Statistic: {wls_dw_statistic}\")\n",
    "#WLS have negative autocorrelation\n",
    "ela_dw_stat = durbin_watson(ela_residuals)\n",
    "print(f\"Durbin-Watson statistic: {ela_dw_stat}\")\n",
    "#Elastic have negative autocorrelation"
   ]
  },
  {
   "cell_type": "code",
   "execution_count": 577,
   "metadata": {},
   "outputs": [
    {
     "name": "stdout",
     "output_type": "stream",
     "text": [
      "VIF for variable 1: 690.6869834590225\n",
      "VIF for variable 2: 43.47573390171569\n",
      "VIF for variable 3: 2.0755235038824758\n",
      "VIF for variable 4: 911.8144361391603\n"
     ]
    }
   ],
   "source": [
    "from statsmodels.stats.outliers_influence import variance_inflation_factor\n",
    "vif_data = [variance_inflation_factor(X, i) for i in range(X.shape[1])]\n",
    "\n",
    "# Print VIF for each independent variable\n",
    "for i in range(1, len(vif_data)):\n",
    "    print(f\"VIF for variable {i}: {vif_data[i]}\")\n",
    "\n",
    "#There exists multicollinearity"
   ]
  },
  {
   "cell_type": "code",
   "execution_count": 578,
   "metadata": {},
   "outputs": [
    {
     "name": "stdout",
     "output_type": "stream",
     "text": [
      "Mean Squared Error of OLS: 1.5391763188007203e+17\n",
      "Mean Squared Error of WLS: 1.7133745703147485e+17\n",
      "Mean Squared Error of elastic: 2.4191340051119613e+17\n"
     ]
    }
   ],
   "source": [
    "#Back testing\n",
    "from sklearn.model_selection import train_test_split\n",
    "from sklearn.metrics import mean_squared_error\n",
    "X0['weight'] = 1 / df['real_GDP']\n",
    "X_train, X_test, y_train, y_test = train_test_split(X0, y, test_size=0.2, random_state=0)\n",
    "weights_train = X_train['weight']\n",
    "\n",
    "X_train = X_train.drop('weight', axis=1)\n",
    "X_test = X_test.drop('weight', axis=1)\n",
    "X_train_const = sm.add_constant(X_train)\n",
    "X_test_const = sm.add_constant(X_test)\n",
    "\n",
    "ols_model_b_t = sm.OLS(y_train, X_train_const).fit()\n",
    "ols_mse = mean_squared_error(y_test, ols_model_b_t.predict(X_test_const))\n",
    "print(f\"Mean Squared Error of OLS: {ols_mse}\")\n",
    "\n",
    "wls_model_b_t = sm.WLS(y_train, X_train_const, weights=weights_train).fit()\n",
    "wls_mse = mean_squared_error(y_test, wls_model_b_t.predict(X_test_const))\n",
    "print(f\"Mean Squared Error of WLS: {wls_mse}\")\n",
    "\n",
    "elastic_net_b_t = ElasticNet(alpha=1, l1_ratio=0.8, random_state=0)\n",
    "elastic_net_b_t.fit(X_train, y_train)\n",
    "ela_mse = mean_squared_error(y_test, elastic_net.predict(X_test))\n",
    "print(f\"Mean Squared Error of elastic: {ela_mse}\")"
   ]
  }
 ],
 "metadata": {
  "kernelspec": {
   "display_name": "base",
   "language": "python",
   "name": "python3"
  },
  "language_info": {
   "codemirror_mode": {
    "name": "ipython",
    "version": 3
   },
   "file_extension": ".py",
   "mimetype": "text/x-python",
   "name": "python",
   "nbconvert_exporter": "python",
   "pygments_lexer": "ipython3",
   "version": "3.10.9"
  },
  "orig_nbformat": 4
 },
 "nbformat": 4,
 "nbformat_minor": 2
}
